{
 "cells": [
  {
   "cell_type": "markdown",
   "id": "27e3bfbd",
   "metadata": {},
   "source": [
    "# 📄 Resume Ranking NLP Model\n",
    "This notebook ranks resumes based on how well they match a job description using NLP techniques."
   ]
  },
  {
   "cell_type": "code",
   "execution_count": null,
   "id": "782bc8b7",
   "metadata": {},
   "outputs": [],
   "source": [
    "# Install required packages (if not already installed)\n",
    "# !pip install pandas scikit-learn nltk\n",
    "\n",
    "import pandas as pd\n",
    "from src.preprocess import clean_text\n",
    "from src.ranker import rank_resumes\n",
    "import nltk\n",
    "nltk.download('stopwords')\n",
    "nltk.download('wordnet')\n"
   ]
  },
  {
   "cell_type": "code",
   "execution_count": null,
   "id": "554b46be",
   "metadata": {},
   "outputs": [],
   "source": [
    "# Load the resume dataset\n",
    "df = pd.read_csv('data/resume_dataset/UpdatedResumeDataSet.csv')\n",
    "df.dropna(subset=['Resume'], inplace=True)\n",
    "df['cleaned_resume'] = df['Resume'].apply(clean_text)\n",
    "df.head()\n"
   ]
  },
  {
   "cell_type": "code",
   "execution_count": null,
   "id": "c349c193",
   "metadata": {},
   "outputs": [],
   "source": [
    "# Enter a job description to rank resumes against\n",
    "job_description = \"\"\"Looking for a data analyst with experience in Python, SQL, machine learning, and dashboard tools like Tableau or Power BI.\"\"\"\n",
    "job_cleaned = clean_text(job_description)\n"
   ]
  },
  {
   "cell_type": "code",
   "execution_count": null,
   "id": "427e94d4",
   "metadata": {},
   "outputs": [],
   "source": [
    "# Rank resumes using TF-IDF and cosine similarity\n",
    "resume_texts = df['cleaned_resume'].tolist()\n",
    "ranked_indices, scores = rank_resumes(resume_texts, job_cleaned)\n",
    "\n",
    "# Display top results\n",
    "top_k = 5\n",
    "for i in range(top_k):\n",
    "    idx = ranked_indices[i]\n",
    "    print(f\"{i+1}. Score: {scores[i]:.4f}\")\n",
    "    print(df.iloc[idx]['Resume'][:400])\n",
    "    print(\"---\\n\")\n"
   ]
  }
 ],
 "metadata": {},
 "nbformat": 4,
 "nbformat_minor": 5
}
